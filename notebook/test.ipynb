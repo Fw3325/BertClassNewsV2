{
 "cells": [
  {
   "cell_type": "code",
   "execution_count": 15,
   "id": "78c40ee6-b021-4d1e-95e6-d0769dcd1ff5",
   "metadata": {
    "tags": []
   },
   "outputs": [],
   "source": [
    "import time\n",
    "import subprocess\n",
    "import os\n",
    "import numpy as np\n",
    "import torch\n",
    "from torch.utils.data import Dataset, DataLoader\n",
    "from torch.nn import CrossEntropyLoss\n",
    "from transformers import BertModel\n",
    "from transformers import BertTokenizer, BertForSequenceClassification, AdamW, get_linear_schedule_with_warmup\n",
    "from tqdm import tqdm\n",
    "import sklearn.model_selection\n",
    "import pandas as pd\n",
    "import logging\n"
   ]
  },
  {
   "cell_type": "code",
   "execution_count": 1,
   "id": "52876691-d3a0-4842-96e3-ff773c004db3",
   "metadata": {
    "tags": []
   },
   "outputs": [],
   "source": [
    "import sys\n",
    "sys.path.insert(0, '/root/autodl-tmp/BertClassNews/load_dataset')\n",
    "from load_data_cls import *"
   ]
  },
  {
   "cell_type": "code",
   "execution_count": 9,
   "id": "f2dd17cd-ba6a-499f-8279-bf5fe2f44c39",
   "metadata": {
    "tags": []
   },
   "outputs": [
    {
     "ename": "NameError",
     "evalue": "name 'loadDat_Config' is not defined",
     "output_type": "error",
     "traceback": [
      "\u001b[0;31m---------------------------------------------------------------------------\u001b[0m",
      "\u001b[0;31mNameError\u001b[0m                                 Traceback (most recent call last)",
      "Cell \u001b[0;32mIn[9], line 1\u001b[0m\n\u001b[0;32m----> 1\u001b[0m config \u001b[38;5;241m=\u001b[39m \u001b[43mloadDat_Config\u001b[49m()\n",
      "\u001b[0;31mNameError\u001b[0m: name 'loadDat_Config' is not defined"
     ]
    }
   ],
   "source": [
    "config = loadDat_Config()"
   ]
  },
  {
   "cell_type": "code",
   "execution_count": 1,
   "id": "ac5740f9-9e9b-4a90-b08c-aeddf576634f",
   "metadata": {
    "tags": []
   },
   "outputs": [
    {
     "name": "stdout",
     "output_type": "stream",
     "text": [
      "BERT_class_nData_v0.ipynb  BERT_class_nData_v2.ipynb  test.ipynb\n",
      "BERT_class_nData_v1.ipynb  BERT_class_nData_v3.ipynb\n"
     ]
    }
   ],
   "source": [
    "!ls"
   ]
  },
  {
   "cell_type": "code",
   "execution_count": 8,
   "id": "5f5d9855-ffb5-4543-964a-df23743b6ec0",
   "metadata": {
    "tags": []
   },
   "outputs": [
    {
     "name": "stdout",
     "output_type": "stream",
     "text": [
      "/root/autodl-tmp/BertClassNews\n"
     ]
    }
   ],
   "source": [
    "%cd .."
   ]
  },
  {
   "cell_type": "code",
   "execution_count": 9,
   "id": "22532f94-2ffc-4920-9514-978a735c85cb",
   "metadata": {
    "tags": []
   },
   "outputs": [],
   "source": [
    "from config.aug_config import * \n",
    "config = aug_Config()"
   ]
  },
  {
   "cell_type": "code",
   "execution_count": 10,
   "id": "d476db68-39a6-46b8-b168-69a990379b9b",
   "metadata": {
    "tags": []
   },
   "outputs": [
    {
     "data": {
      "text/plain": [
       "2"
      ]
     },
     "execution_count": 10,
     "metadata": {},
     "output_type": "execute_result"
    }
   ],
   "source": [
    "config.augRateRU"
   ]
  },
  {
   "cell_type": "code",
   "execution_count": 5,
   "id": "c5d67ade-a7a1-4e69-8c90-0eda5028b67e",
   "metadata": {
    "tags": []
   },
   "outputs": [
    {
     "data": {
      "text/plain": [
       "'/root/autodl-tmp/BertClassNews/data'"
      ]
     },
     "execution_count": 5,
     "metadata": {},
     "output_type": "execute_result"
    }
   ],
   "source": [
    "import os\n",
    "os.path.abspath(os.path.join(os.getcwd(), '..', 'data'))"
   ]
  },
  {
   "cell_type": "code",
   "execution_count": 4,
   "id": "ed57046b-5c2d-464c-9314-cdaa3d2d142c",
   "metadata": {
    "tags": []
   },
   "outputs": [],
   "source": [
    "result = subprocess.run('bash -c \"source /etc/network_turbo && env | grep proxy\"', shell=True, capture_output=True, text=True)\n",
    "output = result.stdout\n",
    "for line in output.splitlines():\n",
    "    if '=' in line:\n",
    "        var, value = line.split('=', 1)\n",
    "        os.environ[var] = value"
   ]
  },
  {
   "cell_type": "code",
   "execution_count": 5,
   "id": "2c2cff30-67a6-4ea0-b87f-ef5858490304",
   "metadata": {
    "tags": []
   },
   "outputs": [],
   "source": [
    "class Config(object):\n",
    "\n",
    "    \"\"\"配置参数\"\"\"\n",
    "    def __init__(self):\n",
    "        self.datPath = '/root/autodl-tmp/BertClassNews/data/'\n",
    "        self.model_dir = 'BertRetrainNewAllDat_v1.pt'\n",
    "        self.wtPath = '/root/autodl-tmp/BertClassNews/wt/'\n",
    "        self.batch_size = 16                                           # mini-batch大小\n",
    "        self.lblEncode = {'本地旅游': 0,\n",
    "                             '通报查处': 1,\n",
    "                             '基建民生': 2,\n",
    "                             '社会热点': 3,\n",
    "                             '暖新闻': 4,\n",
    "                             '人事任免': 5,\n",
    "                             '政策类型': 6,\n",
    "                             '产业金融': 7,\n",
    "                             '人文历史': 8,\n",
    "                             '数据排名': 9}\n",
    "        self.reverse_lblEncode= {0: '本地旅游',\n",
    "                                 1: '通报查处',\n",
    "                                 2: '基建民生',\n",
    "                                 3: '社会热点',\n",
    "                                 4: '暖新闻',\n",
    "                                 5: '人事任免',\n",
    "                                 6: '政策类型',\n",
    "                                 7: '产业金融',\n",
    "                                 8: '人文历史',\n",
    "                                 9: '数据排名'}\n",
    "        self.device = torch.device('cuda' if torch.cuda.is_available() else 'cpu')\n",
    "        self.num_epochs = 3\n",
    "        self.tokenizer = BertTokenizer.from_pretrained('bert-base-chinese')\n",
    "        self.model = BertForSequenceClassification.from_pretrained('bert-base-chinese',num_labels=len(self.lblEncode))"
   ]
  },
  {
   "cell_type": "code",
   "execution_count": 6,
   "id": "081d6e0d-8996-45ff-83c4-2330de3c695f",
   "metadata": {
    "tags": []
   },
   "outputs": [],
   "source": [
    "def generateDataloader(df, lbl, Tokenizer, BATCH_SIZE = 16):\n",
    "    inputs = Tokenizer(df, padding=True, truncation=True,return_tensors='pt')\n",
    "    dataset = BERTDataset(inputs, lbl)\n",
    "    dataloader = DataLoader(dataset, batch_size=BATCH_SIZE)\n",
    "    return dataloader"
   ]
  },
  {
   "cell_type": "code",
   "execution_count": 17,
   "id": "bbcfa3c7-bffd-4d87-8089-ec6543feccb1",
   "metadata": {
    "tags": []
   },
   "outputs": [],
   "source": [
    "def evaluate(model, dataloader, config):\n",
    "    model.to(config.device)\n",
    "    model.eval()\n",
    "    final_pred = []\n",
    "    total = 0\n",
    "    correct = 0\n",
    "    pred = {i:[] for i in range(len(config.lblEncode))}\n",
    "    # pred = {i:[] for i in [0,2,3]}\n",
    "    with torch.no_grad():\n",
    "\n",
    "        for batch in dataloader:\n",
    "            inputs = torch.stack([t for t in batch['input_ids']]).to(device)\n",
    "            labels = torch.tensor(batch['labels']).to(device)\n",
    "            attention_mask =torch.stack([t for t in batch['attention_mask']]).to(device)\n",
    "            outputs = model(input_ids=inputs, attention_mask=attention_mask,\n",
    "                      labels=labels)\n",
    "            predictions = outputs[1].argmax(dim=1)\n",
    "            for i in range(len(predictions)):\n",
    "                predRes = predictions[i].item()\n",
    "                pred[predRes].append((predictions[i] == labels[i]).item())\n",
    "                final_pred.append((config.reverse_lblEncode[predRes], config.reverse_lblEncode[labels[i].item()]))\n",
    "                # final_pred.append((predRes, labels[i].item()))\n",
    "\n",
    "            correct += (predictions == labels).sum().item()\n",
    "            total += labels.shape[0]\n",
    "      \n",
    "    accuracy = correct/total\n",
    "    res = {config.reverse_lblEncode[i]:sum(pred[i])/len(pred[i]) if len(pred[i]) > 0 else np.nan for i in pred }\n",
    "    return accuracy, res, final_pred\n"
   ]
  },
  {
   "cell_type": "code",
   "execution_count": 7,
   "id": "c43efd64-b3f7-49b8-9265-fd0ee4a2784e",
   "metadata": {
    "tags": []
   },
   "outputs": [
    {
     "name": "stderr",
     "output_type": "stream",
     "text": [
      "Some weights of BertForSequenceClassification were not initialized from the model checkpoint at bert-base-chinese and are newly initialized: ['classifier.bias', 'classifier.weight']\n",
      "You should probably TRAIN this model on a down-stream task to be able to use it for predictions and inference.\n"
     ]
    }
   ],
   "source": [
    "config = Config()\n",
    "test_df = pd.read_json(config.datPath + 'test_cls.json') \n",
    "# model, tokenizer = get_token_model(len(config.lblEncode))\n"
   ]
  },
  {
   "cell_type": "code",
   "execution_count": 12,
   "id": "a2d91d1e-7c24-447d-81aa-b3cffb08e530",
   "metadata": {
    "tags": []
   },
   "outputs": [],
   "source": [
    "class BERTDataset(Dataset):\n",
    "\n",
    "    def __init__(self, inputs, labels):\n",
    "        self.inputs = inputs\n",
    "        self.labels = labels\n",
    "\n",
    "    def __getitem__(self, idx):\n",
    "        item = {key: val[idx] for key, val in self.inputs.items()}\n",
    "        item['labels'] = self.labels[idx]\n",
    "        return item\n",
    "\n",
    "    def __len__(self):\n",
    "        return len(self.labels)\n",
    "    \n",
    "def save_model(model, wtPath, model_name = 'BertOrigmodelAllDat_v0.pt'):\n",
    "    # datPath = '/root/wt/'\n",
    "    # model_save_path  = datPath + 'BertOrigmodelAllDat_v0.pt'\n",
    "    model_save_path  = wtPath + model_name\n",
    "    if os.path.exists(model_save_path):\n",
    "        loaded_paras = torch.load(model_save_path)\n",
    "        model.load_state_dict(loaded_paras)\n",
    "        logging.info(\"## 成功载入已有模型，进行追加训练......\")\n",
    "    else:\n",
    "        torch.save(model.state_dict(), model_save_path)\n",
    "    return model"
   ]
  },
  {
   "cell_type": "code",
   "execution_count": 10,
   "id": "0beafa5e-ea1b-4bca-b235-7d2254b3f30d",
   "metadata": {
    "tags": []
   },
   "outputs": [],
   "source": [
    "test_dataloader = generateDataloader(test_df['content'].tolist(), test_df['tag'].tolist(), Tokenizer= config.tokenizer, BATCH_SIZE = config.batch_size)"
   ]
  },
  {
   "cell_type": "code",
   "execution_count": null,
   "id": "190f7c77-031c-4984-97c2-df743473eb9e",
   "metadata": {},
   "outputs": [],
   "source": []
  },
  {
   "cell_type": "code",
   "execution_count": 18,
   "id": "6ee504ec-640b-4f90-b1ba-b21f5bea554d",
   "metadata": {
    "tags": []
   },
   "outputs": [
    {
     "ename": "TypeError",
     "evalue": "evaluate() takes 3 positional arguments but 4 were given",
     "output_type": "error",
     "traceback": [
      "\u001b[0;31m---------------------------------------------------------------------------\u001b[0m",
      "\u001b[0;31mTypeError\u001b[0m                                 Traceback (most recent call last)",
      "Cell \u001b[0;32mIn[18], line 3\u001b[0m\n\u001b[1;32m      1\u001b[0m model \u001b[38;5;241m=\u001b[39m config\u001b[38;5;241m.\u001b[39mmodel\n\u001b[1;32m      2\u001b[0m model \u001b[38;5;241m=\u001b[39m save_model(model, config\u001b[38;5;241m.\u001b[39mwtPath, model_name \u001b[38;5;241m=\u001b[39m config\u001b[38;5;241m.\u001b[39mmodel_dir)\n\u001b[0;32m----> 3\u001b[0m test_accuracy, test_cat_acc, test_pred \u001b[38;5;241m=\u001b[39m \u001b[43mevaluate\u001b[49m\u001b[43m(\u001b[49m\u001b[43mmodel\u001b[49m\u001b[43m,\u001b[49m\u001b[43m \u001b[49m\u001b[43mtest_dataloader\u001b[49m\u001b[43m,\u001b[49m\u001b[43m \u001b[49m\u001b[43mconfig\u001b[49m\u001b[38;5;241;43m.\u001b[39;49m\u001b[43mlblEncode\u001b[49m\u001b[43m,\u001b[49m\u001b[43m \u001b[49m\u001b[43mconfig\u001b[49m\u001b[38;5;241;43m.\u001b[39;49m\u001b[43mreverse_lblEncode\u001b[49m\u001b[43m)\u001b[49m\n\u001b[1;32m      4\u001b[0m \u001b[38;5;28mprint\u001b[39m(\u001b[38;5;124m\"\u001b[39m\u001b[38;5;124mTest Accuracy:\u001b[39m\u001b[38;5;124m\"\u001b[39m, test_accuracy, \u001b[38;5;124m\"\u001b[39m\u001b[38;5;124mTest Cat Accuracy:\u001b[39m\u001b[38;5;124m\"\u001b[39m, test_cat_acc)\n",
      "\u001b[0;31mTypeError\u001b[0m: evaluate() takes 3 positional arguments but 4 were given"
     ]
    }
   ],
   "source": [
    "model = config.model\n",
    "model = save_model(model, config.wtPath, model_name = config.model_dir)\n",
    "test_accuracy, test_cat_acc, test_pred = evaluate(model, test_dataloader, config.lblEncode, config.reverse_lblEncode)\n",
    "print(\"Test Accuracy:\", test_accuracy, \"Test Cat Accuracy:\", test_cat_acc)"
   ]
  },
  {
   "cell_type": "code",
   "execution_count": null,
   "id": "cd0d25e4-831f-4c79-b541-ff3c5de76365",
   "metadata": {},
   "outputs": [],
   "source": []
  }
 ],
 "metadata": {
  "kernelspec": {
   "display_name": "Python 3 (ipykernel)",
   "language": "python",
   "name": "python3"
  },
  "language_info": {
   "codemirror_mode": {
    "name": "ipython",
    "version": 3
   },
   "file_extension": ".py",
   "mimetype": "text/x-python",
   "name": "python",
   "nbconvert_exporter": "python",
   "pygments_lexer": "ipython3",
   "version": "3.8.10"
  }
 },
 "nbformat": 4,
 "nbformat_minor": 5
}
